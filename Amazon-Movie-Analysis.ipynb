{
  "cells": [
    {
      "cell_type": "markdown",
      "metadata": {
        "id": "vncDsAP0Gaoa"
      },
      "source": [
        "# **Project Name**    - Amazon-Movie-Analysis\n"
      ]
    },
    {
      "cell_type": "markdown",
      "metadata": {
        "id": "beRrZCGUAJYm"
      },
      "source": [
        "##### **Project Type**    - EDA/Regression/Classification/Unsupervised\n",
        "##### **Contribution**    - Individual\n"
      ]
    },
    {
      "cell_type": "markdown",
      "metadata": {
        "id": "FJNUwmbgGyua"
      },
      "source": [
        "# **Project Summary -**"
      ]
    },
    {
      "cell_type": "markdown",
      "metadata": {
        "id": "F6v_1wHtG2nS"
      },
      "source": [
        "This project explores Amazon Prime movies and TV shows, analyzing trends in production, top actors, directors, and factors influencing IMDb ratings.\n",
        "\n",
        "EDA Highlights:\n",
        "Identifies popular genres, runtime trends, and top-rated movies.\n",
        "Finds key actors, directors, and their impact on ratings.\n",
        "Uses visualizations and correlation analysis for insights.\n",
        "ML Predictions:\n",
        "Predicts IMDb scores using Random Forest & XGBoost.\n",
        "Optimized with hyperparameter tuning & SHAP analysis.\n",
        "Evaluated using MSE, MAE, and R² scores."
      ]
    },
    {
      "cell_type": "markdown",
      "metadata": {
        "id": "w6K7xa23Elo4"
      },
      "source": [
        "# **GitHub Link -**"
      ]
    },
    {
      "cell_type": "markdown",
      "metadata": {
        "id": "h1o69JH3Eqqn"
      },
      "source": [
        "https://github.com/Josephvarghes/Amazon-Movie-Analysis"
      ]
    },
    {
      "cell_type": "markdown",
      "metadata": {
        "id": "yQaldy8SH6Dl"
      },
      "source": [
        "# **Problem Statement**\n"
      ]
    },
    {
      "cell_type": "markdown",
      "metadata": {
        "id": "DpeJGUA3kjGy"
      },
      "source": [
        "**Write Problem Statement Here.**"
      ]
    },
    {
      "cell_type": "markdown",
      "metadata": {
        "id": "PH-0ReGfmX4f"
      },
      "source": [
        "#### **Define Your Business Objective?**"
      ]
    },
    {
      "cell_type": "markdown",
      "metadata": {
        "id": "PhDvGCAqmjP1"
      },
      "source": [
        "Answer Here."
      ]
    },
    {
      "cell_type": "markdown",
      "metadata": {
        "id": "HhfV-JJviCcP"
      },
      "source": [
        "## ***1. Know Your Data***"
      ]
    },
    {
      "cell_type": "markdown",
      "metadata": {
        "id": "Y3lxredqlCYt"
      },
      "source": [
        "### Import Libraries"
      ]
    },
    {
      "cell_type": "code",
      "execution_count": 2,
      "metadata": {
        "id": "M8Vqi-pPk-HR"
      },
      "outputs": [],
      "source": [
        "import pandas as pd\n",
        "import numpy as np \n",
        "import matplotlib.pyplot as plt\n",
        "import seaborn as sns"
      ]
    },
    {
      "cell_type": "markdown",
      "metadata": {
        "id": "3RnN4peoiCZX"
      },
      "source": [
        "### Dataset Loading"
      ]
    },
    {
      "cell_type": "code",
      "execution_count": 3,
      "metadata": {
        "id": "4CkvbW_SlZ_R"
      },
      "outputs": [],
      "source": [
        "# Load Dataset \n",
        "df1 = pd.read_csv('../dataset/titles.csv')\n",
        "df2 = pd.read_csv('../dataset/credits.csv')"
      ]
    },
    {
      "cell_type": "markdown",
      "metadata": {
        "id": "x71ZqKXriCWQ"
      },
      "source": [
        "### Dataset First View"
      ]
    },
    {
      "cell_type": "code",
      "execution_count": 4,
      "metadata": {
        "id": "LWNFOSvLl09H"
      },
      "outputs": [
        {
          "data": {
            "text/html": [
              "<div>\n",
              "<style scoped>\n",
              "    .dataframe tbody tr th:only-of-type {\n",
              "        vertical-align: middle;\n",
              "    }\n",
              "\n",
              "    .dataframe tbody tr th {\n",
              "        vertical-align: top;\n",
              "    }\n",
              "\n",
              "    .dataframe thead th {\n",
              "        text-align: right;\n",
              "    }\n",
              "</style>\n",
              "<table border=\"1\" class=\"dataframe\">\n",
              "  <thead>\n",
              "    <tr style=\"text-align: right;\">\n",
              "      <th></th>\n",
              "      <th>id</th>\n",
              "      <th>title</th>\n",
              "      <th>type</th>\n",
              "      <th>description</th>\n",
              "      <th>release_year</th>\n",
              "      <th>age_certification</th>\n",
              "      <th>runtime</th>\n",
              "      <th>genres</th>\n",
              "      <th>production_countries</th>\n",
              "      <th>seasons</th>\n",
              "      <th>imdb_id</th>\n",
              "      <th>imdb_score</th>\n",
              "      <th>imdb_votes</th>\n",
              "      <th>tmdb_popularity</th>\n",
              "      <th>tmdb_score</th>\n",
              "    </tr>\n",
              "  </thead>\n",
              "  <tbody>\n",
              "    <tr>\n",
              "      <th>0</th>\n",
              "      <td>ts20945</td>\n",
              "      <td>The Three Stooges</td>\n",
              "      <td>SHOW</td>\n",
              "      <td>The Three Stooges were an American vaudeville ...</td>\n",
              "      <td>1934</td>\n",
              "      <td>TV-PG</td>\n",
              "      <td>19</td>\n",
              "      <td>['comedy', 'family', 'animation', 'action', 'f...</td>\n",
              "      <td>['US']</td>\n",
              "      <td>26.0</td>\n",
              "      <td>tt0850645</td>\n",
              "      <td>8.6</td>\n",
              "      <td>1092.0</td>\n",
              "      <td>15.424</td>\n",
              "      <td>7.6</td>\n",
              "    </tr>\n",
              "    <tr>\n",
              "      <th>1</th>\n",
              "      <td>tm19248</td>\n",
              "      <td>The General</td>\n",
              "      <td>MOVIE</td>\n",
              "      <td>During America’s Civil War, Union spies steal ...</td>\n",
              "      <td>1926</td>\n",
              "      <td>NaN</td>\n",
              "      <td>78</td>\n",
              "      <td>['action', 'drama', 'war', 'western', 'comedy'...</td>\n",
              "      <td>['US']</td>\n",
              "      <td>NaN</td>\n",
              "      <td>tt0017925</td>\n",
              "      <td>8.2</td>\n",
              "      <td>89766.0</td>\n",
              "      <td>8.647</td>\n",
              "      <td>8.0</td>\n",
              "    </tr>\n",
              "    <tr>\n",
              "      <th>2</th>\n",
              "      <td>tm82253</td>\n",
              "      <td>The Best Years of Our Lives</td>\n",
              "      <td>MOVIE</td>\n",
              "      <td>It's the hope that sustains the spirit of ever...</td>\n",
              "      <td>1946</td>\n",
              "      <td>NaN</td>\n",
              "      <td>171</td>\n",
              "      <td>['romance', 'war', 'drama']</td>\n",
              "      <td>['US']</td>\n",
              "      <td>NaN</td>\n",
              "      <td>tt0036868</td>\n",
              "      <td>8.1</td>\n",
              "      <td>63026.0</td>\n",
              "      <td>8.435</td>\n",
              "      <td>7.8</td>\n",
              "    </tr>\n",
              "    <tr>\n",
              "      <th>3</th>\n",
              "      <td>tm83884</td>\n",
              "      <td>His Girl Friday</td>\n",
              "      <td>MOVIE</td>\n",
              "      <td>Hildy, the journalist former wife of newspaper...</td>\n",
              "      <td>1940</td>\n",
              "      <td>NaN</td>\n",
              "      <td>92</td>\n",
              "      <td>['comedy', 'drama', 'romance']</td>\n",
              "      <td>['US']</td>\n",
              "      <td>NaN</td>\n",
              "      <td>tt0032599</td>\n",
              "      <td>7.8</td>\n",
              "      <td>57835.0</td>\n",
              "      <td>11.270</td>\n",
              "      <td>7.4</td>\n",
              "    </tr>\n",
              "    <tr>\n",
              "      <th>4</th>\n",
              "      <td>tm56584</td>\n",
              "      <td>In a Lonely Place</td>\n",
              "      <td>MOVIE</td>\n",
              "      <td>An aspiring actress begins to suspect that her...</td>\n",
              "      <td>1950</td>\n",
              "      <td>NaN</td>\n",
              "      <td>94</td>\n",
              "      <td>['thriller', 'drama', 'romance']</td>\n",
              "      <td>['US']</td>\n",
              "      <td>NaN</td>\n",
              "      <td>tt0042593</td>\n",
              "      <td>7.9</td>\n",
              "      <td>30924.0</td>\n",
              "      <td>8.273</td>\n",
              "      <td>7.6</td>\n",
              "    </tr>\n",
              "  </tbody>\n",
              "</table>\n",
              "</div>"
            ],
            "text/plain": [
              "        id                        title   type  \\\n",
              "0  ts20945            The Three Stooges   SHOW   \n",
              "1  tm19248                  The General  MOVIE   \n",
              "2  tm82253  The Best Years of Our Lives  MOVIE   \n",
              "3  tm83884              His Girl Friday  MOVIE   \n",
              "4  tm56584            In a Lonely Place  MOVIE   \n",
              "\n",
              "                                         description  release_year  \\\n",
              "0  The Three Stooges were an American vaudeville ...          1934   \n",
              "1  During America’s Civil War, Union spies steal ...          1926   \n",
              "2  It's the hope that sustains the spirit of ever...          1946   \n",
              "3  Hildy, the journalist former wife of newspaper...          1940   \n",
              "4  An aspiring actress begins to suspect that her...          1950   \n",
              "\n",
              "  age_certification  runtime  \\\n",
              "0             TV-PG       19   \n",
              "1               NaN       78   \n",
              "2               NaN      171   \n",
              "3               NaN       92   \n",
              "4               NaN       94   \n",
              "\n",
              "                                              genres production_countries  \\\n",
              "0  ['comedy', 'family', 'animation', 'action', 'f...               ['US']   \n",
              "1  ['action', 'drama', 'war', 'western', 'comedy'...               ['US']   \n",
              "2                        ['romance', 'war', 'drama']               ['US']   \n",
              "3                     ['comedy', 'drama', 'romance']               ['US']   \n",
              "4                   ['thriller', 'drama', 'romance']               ['US']   \n",
              "\n",
              "   seasons    imdb_id  imdb_score  imdb_votes  tmdb_popularity  tmdb_score  \n",
              "0     26.0  tt0850645         8.6      1092.0           15.424         7.6  \n",
              "1      NaN  tt0017925         8.2     89766.0            8.647         8.0  \n",
              "2      NaN  tt0036868         8.1     63026.0            8.435         7.8  \n",
              "3      NaN  tt0032599         7.8     57835.0           11.270         7.4  \n",
              "4      NaN  tt0042593         7.9     30924.0            8.273         7.6  "
            ]
          },
          "metadata": {},
          "output_type": "display_data"
        },
        {
          "data": {
            "text/html": [
              "<div>\n",
              "<style scoped>\n",
              "    .dataframe tbody tr th:only-of-type {\n",
              "        vertical-align: middle;\n",
              "    }\n",
              "\n",
              "    .dataframe tbody tr th {\n",
              "        vertical-align: top;\n",
              "    }\n",
              "\n",
              "    .dataframe thead th {\n",
              "        text-align: right;\n",
              "    }\n",
              "</style>\n",
              "<table border=\"1\" class=\"dataframe\">\n",
              "  <thead>\n",
              "    <tr style=\"text-align: right;\">\n",
              "      <th></th>\n",
              "      <th>person_id</th>\n",
              "      <th>id</th>\n",
              "      <th>name</th>\n",
              "      <th>character</th>\n",
              "      <th>role</th>\n",
              "    </tr>\n",
              "  </thead>\n",
              "  <tbody>\n",
              "    <tr>\n",
              "      <th>0</th>\n",
              "      <td>59401</td>\n",
              "      <td>ts20945</td>\n",
              "      <td>Joe Besser</td>\n",
              "      <td>Joe</td>\n",
              "      <td>ACTOR</td>\n",
              "    </tr>\n",
              "    <tr>\n",
              "      <th>1</th>\n",
              "      <td>31460</td>\n",
              "      <td>ts20945</td>\n",
              "      <td>Moe Howard</td>\n",
              "      <td>Moe</td>\n",
              "      <td>ACTOR</td>\n",
              "    </tr>\n",
              "    <tr>\n",
              "      <th>2</th>\n",
              "      <td>31461</td>\n",
              "      <td>ts20945</td>\n",
              "      <td>Larry Fine</td>\n",
              "      <td>Larry</td>\n",
              "      <td>ACTOR</td>\n",
              "    </tr>\n",
              "    <tr>\n",
              "      <th>3</th>\n",
              "      <td>21174</td>\n",
              "      <td>tm19248</td>\n",
              "      <td>Buster Keaton</td>\n",
              "      <td>Johnny Gray</td>\n",
              "      <td>ACTOR</td>\n",
              "    </tr>\n",
              "    <tr>\n",
              "      <th>4</th>\n",
              "      <td>28713</td>\n",
              "      <td>tm19248</td>\n",
              "      <td>Marion Mack</td>\n",
              "      <td>Annabelle Lee</td>\n",
              "      <td>ACTOR</td>\n",
              "    </tr>\n",
              "  </tbody>\n",
              "</table>\n",
              "</div>"
            ],
            "text/plain": [
              "   person_id       id           name      character   role\n",
              "0      59401  ts20945     Joe Besser            Joe  ACTOR\n",
              "1      31460  ts20945     Moe Howard            Moe  ACTOR\n",
              "2      31461  ts20945     Larry Fine          Larry  ACTOR\n",
              "3      21174  tm19248  Buster Keaton    Johnny Gray  ACTOR\n",
              "4      28713  tm19248    Marion Mack  Annabelle Lee  ACTOR"
            ]
          },
          "metadata": {},
          "output_type": "display_data"
        }
      ],
      "source": [
        "# Dataset First Look \n",
        "display(df1.head(), df2.head())"
      ]
    },
    {
      "cell_type": "markdown",
      "metadata": {
        "id": "7hBIi_osiCS2"
      },
      "source": [
        "### Dataset Rows & Columns count"
      ]
    },
    {
      "cell_type": "code",
      "execution_count": 35,
      "metadata": {
        "id": "Kllu7SJgmLij"
      },
      "outputs": [
        {
          "name": "stdout",
          "output_type": "stream",
          "text": [
            "Titles: \n",
            "(9868, 15)\n",
            "\n",
            "Credits:  \n",
            "(8861, 5)\n"
          ]
        }
      ],
      "source": [
        "#Number of Rows & columns of Titles\n",
        "print(\"Titles: \")\n",
        "print(df1.shape)\n",
        "\n",
        "#Number of Rows & columns of Credits\n",
        "print(\"\\nCredits:  \")\n",
        "print(df2.shape)\n"
      ]
    },
    {
      "cell_type": "markdown",
      "metadata": {
        "id": "JlHwYmJAmNHm"
      },
      "source": [
        "### Dataset Information"
      ]
    },
    {
      "cell_type": "code",
      "execution_count": 6,
      "metadata": {
        "id": "e9hRXRi6meOf"
      },
      "outputs": [
        {
          "name": "stdout",
          "output_type": "stream",
          "text": [
            "Title Dataset\n",
            "<class 'pandas.core.frame.DataFrame'>\n",
            "RangeIndex: 9871 entries, 0 to 9870\n",
            "Data columns (total 15 columns):\n",
            " #   Column                Non-Null Count  Dtype  \n",
            "---  ------                --------------  -----  \n",
            " 0   id                    9871 non-null   object \n",
            " 1   title                 9871 non-null   object \n",
            " 2   type                  9871 non-null   object \n",
            " 3   description           9752 non-null   object \n",
            " 4   release_year          9871 non-null   int64  \n",
            " 5   age_certification     3384 non-null   object \n",
            " 6   runtime               9871 non-null   int64  \n",
            " 7   genres                9871 non-null   object \n",
            " 8   production_countries  9871 non-null   object \n",
            " 9   seasons               1357 non-null   float64\n",
            " 10  imdb_id               9204 non-null   object \n",
            " 11  imdb_score            8850 non-null   float64\n",
            " 12  imdb_votes            8840 non-null   float64\n",
            " 13  tmdb_popularity       9324 non-null   float64\n",
            " 14  tmdb_score            7789 non-null   float64\n",
            "dtypes: float64(5), int64(2), object(8)\n",
            "memory usage: 1.1+ MB\n",
            "None\n",
            "Credit Dataset\n",
            "<class 'pandas.core.frame.DataFrame'>\n",
            "RangeIndex: 124235 entries, 0 to 124234\n",
            "Data columns (total 5 columns):\n",
            " #   Column     Non-Null Count   Dtype \n",
            "---  ------     --------------   ----- \n",
            " 0   person_id  124235 non-null  int64 \n",
            " 1   id         124235 non-null  object\n",
            " 2   name       124235 non-null  object\n",
            " 3   character  107948 non-null  object\n",
            " 4   role       124235 non-null  object\n",
            "dtypes: int64(1), object(4)\n",
            "memory usage: 4.7+ MB\n",
            "None\n"
          ]
        }
      ],
      "source": [
        "# Dataset Info  \n",
        "print(\"Title Dataset\")\n",
        "print(df1.info())\n",
        "print(\"Credit Dataset\")\n",
        "print(df2.info())\n"
      ]
    },
    {
      "cell_type": "markdown",
      "metadata": {
        "id": "35m5QtbWiB9F"
      },
      "source": [
        "#### Duplicate Values"
      ]
    },
    {
      "cell_type": "code",
      "execution_count": 7,
      "metadata": {
        "id": "1sLdpKYkmox0"
      },
      "outputs": [
        {
          "data": {
            "text/plain": [
              "False    9868\n",
              "True        3\n",
              "Name: count, dtype: int64"
            ]
          },
          "metadata": {},
          "output_type": "display_data"
        },
        {
          "data": {
            "text/plain": [
              "False    124179\n",
              "True         56\n",
              "Name: count, dtype: int64"
            ]
          },
          "metadata": {},
          "output_type": "display_data"
        }
      ],
      "source": [
        "# Dataset Duplicate Value Count \n",
        "display(df1.duplicated().value_counts(), df2.duplicated().value_counts())"
      ]
    },
    {
      "cell_type": "markdown",
      "metadata": {
        "id": "PoPl-ycgm1ru"
      },
      "source": [
        "#### Missing Values/Null Values"
      ]
    },
    {
      "cell_type": "code",
      "execution_count": 8,
      "metadata": {
        "id": "GgHWkxvamxVg"
      },
      "outputs": [
        {
          "data": {
            "text/plain": [
              "20468"
            ]
          },
          "metadata": {},
          "output_type": "display_data"
        },
        {
          "data": {
            "text/plain": [
              "16287"
            ]
          },
          "metadata": {},
          "output_type": "display_data"
        }
      ],
      "source": [
        "# Missing Values/Null Values Count \n",
        "display(df1.isnull().sum().sum(), df2.isnull().sum().sum())\n"
      ]
    },
    {
      "cell_type": "code",
      "execution_count": 9,
      "metadata": {
        "id": "3q5wnI3om9sJ"
      },
      "outputs": [
        {
          "data": {
            "image/png": "[encoded data removed]",
            "text/plain": [
              "<Figure size 2000x500 with 2 Axes>"
            ]
          },
          "metadata": {},
          "output_type": "display_data"
        }
      ],
      "source": [
        "# Visualizing the missing values \n",
        "\n",
        "plt.figure(figsize=(20, 5))\n",
        "\n",
        "# Bar plot for df1 missing values with red color\n",
        "plt.subplot(1, 2, 1)\n",
        "df1.isnull().sum().plot(kind=\"bar\", color='red')\n",
        "plt.xlabel(\"Columns\")\n",
        "plt.ylabel(\"Number of Missing Values\")\n",
        "plt.title(\"Missing Values per Column of Titles DataSet\")\n",
        "\n",
        "# Bar plot for df2 missing values with red color\n",
        "plt.subplot(1, 2, 2)\n",
        "df2.isnull().sum().plot(kind=\"bar\", color='red')\n",
        "plt.xlabel(\"Columns\")\n",
        "plt.ylabel(\"Number of Missing Values\")\n",
        "plt.title(\"Missing Values per Column of Credits DataSet\")\n",
        "\n",
        "plt.tight_layout()\n",
        "plt.show()"
      ]
    },
    {
      "cell_type": "markdown",
      "metadata": {
        "id": "H0kj-8xxnORC"
      },
      "source": [
        "### What did you know about your dataset?"
      ]
    },
    {
      "cell_type": "markdown",
      "metadata": {
        "id": "gfoNAAC-nUe_"
      },
      "source": [
        "The two datasets focus on the TV industry. The first dataset contains details about various movies and series, while the second provides information on actors and directors.\n",
        "\n",
        "During the analysis, duplicate rows and missing values were identified. These issues have been handled to improve data quality and accuracy."
      ]
    },
    {
      "cell_type": "markdown",
      "metadata": {
        "id": "nA9Y7ga8ng1Z"
      },
      "source": [
        "## ***2. Understanding Your Variables***"
      ]
    },
    {
      "cell_type": "code",
      "execution_count": 10,
      "metadata": {
        "id": "j7xfkqrt5Ag5"
      },
      "outputs": [
        {
          "name": "stdout",
          "output_type": "stream",
          "text": [
            "Titles dataset\n",
            " Index(['id', 'title', 'type', 'description', 'release_year',\n",
            "       'age_certification', 'runtime', 'genres', 'production_countries',\n",
            "       'seasons', 'imdb_id', 'imdb_score', 'imdb_votes', 'tmdb_popularity',\n",
            "       'tmdb_score'],\n",
            "      dtype='object')\n",
            "\n",
            "Credits dataset\n",
            " Index(['person_id', 'id', 'name', 'character', 'role'], dtype='object')\n"
          ]
        }
      ],
      "source": [
        "# Dataset Columns \n",
        "print('Titles dataset\\n', df1.columns) \n",
        "print('\\nCredits dataset\\n', df2.columns)"
      ]
    },
    {
      "cell_type": "code",
      "execution_count": 11,
      "metadata": {
        "id": "DnOaZdaE5Q5t"
      },
      "outputs": [
        {
          "data": {
            "text/html": [
              "<div>\n",
              "<style scoped>\n",
              "    .dataframe tbody tr th:only-of-type {\n",
              "        vertical-align: middle;\n",
              "    }\n",
              "\n",
              "    .dataframe tbody tr th {\n",
              "        vertical-align: top;\n",
              "    }\n",
              "\n",
              "    .dataframe thead th {\n",
              "        text-align: right;\n",
              "    }\n",
              "</style>\n",
              "<table border=\"1\" class=\"dataframe\">\n",
              "  <thead>\n",
              "    <tr style=\"text-align: right;\">\n",
              "      <th></th>\n",
              "      <th>id</th>\n",
              "      <th>title</th>\n",
              "      <th>type</th>\n",
              "      <th>description</th>\n",
              "      <th>release_year</th>\n",
              "      <th>age_certification</th>\n",
              "      <th>runtime</th>\n",
              "      <th>genres</th>\n",
              "      <th>production_countries</th>\n",
              "      <th>seasons</th>\n",
              "      <th>imdb_id</th>\n",
              "      <th>imdb_score</th>\n",
              "      <th>imdb_votes</th>\n",
              "      <th>tmdb_popularity</th>\n",
              "      <th>tmdb_score</th>\n",
              "    </tr>\n",
              "  </thead>\n",
              "  <tbody>\n",
              "    <tr>\n",
              "      <th>count</th>\n",
              "      <td>9871</td>\n",
              "      <td>9871</td>\n",
              "      <td>9871</td>\n",
              "      <td>9752</td>\n",
              "      <td>9871.000000</td>\n",
              "      <td>3384</td>\n",
              "      <td>9871.000000</td>\n",
              "      <td>9871</td>\n",
              "      <td>9871</td>\n",
              "      <td>1357.000000</td>\n",
              "      <td>9204</td>\n",
              "      <td>8850.000000</td>\n",
              "      <td>8.840000e+03</td>\n",
              "      <td>9324.000000</td>\n",
              "      <td>7789.000000</td>\n",
              "    </tr>\n",
              "    <tr>\n",
              "      <th>unique</th>\n",
              "      <td>9868</td>\n",
              "      <td>9737</td>\n",
              "      <td>2</td>\n",
              "      <td>9734</td>\n",
              "      <td>NaN</td>\n",
              "      <td>11</td>\n",
              "      <td>NaN</td>\n",
              "      <td>2028</td>\n",
              "      <td>497</td>\n",
              "      <td>NaN</td>\n",
              "      <td>9201</td>\n",
              "      <td>NaN</td>\n",
              "      <td>NaN</td>\n",
              "      <td>NaN</td>\n",
              "      <td>NaN</td>\n",
              "    </tr>\n",
              "    <tr>\n",
              "      <th>top</th>\n",
              "      <td>tm66674</td>\n",
              "      <td>King Lear</td>\n",
              "      <td>MOVIE</td>\n",
              "      <td>No overview found.</td>\n",
              "      <td>NaN</td>\n",
              "      <td>R</td>\n",
              "      <td>NaN</td>\n",
              "      <td>['drama']</td>\n",
              "      <td>['US']</td>\n",
              "      <td>NaN</td>\n",
              "      <td>tt0033683</td>\n",
              "      <td>NaN</td>\n",
              "      <td>NaN</td>\n",
              "      <td>NaN</td>\n",
              "      <td>NaN</td>\n",
              "    </tr>\n",
              "    <tr>\n",
              "      <th>freq</th>\n",
              "      <td>2</td>\n",
              "      <td>3</td>\n",
              "      <td>8514</td>\n",
              "      <td>5</td>\n",
              "      <td>NaN</td>\n",
              "      <td>1249</td>\n",
              "      <td>NaN</td>\n",
              "      <td>908</td>\n",
              "      <td>4810</td>\n",
              "      <td>NaN</td>\n",
              "      <td>2</td>\n",
              "      <td>NaN</td>\n",
              "      <td>NaN</td>\n",
              "      <td>NaN</td>\n",
              "      <td>NaN</td>\n",
              "    </tr>\n",
              "    <tr>\n",
              "      <th>mean</th>\n",
              "      <td>NaN</td>\n",
              "      <td>NaN</td>\n",
              "      <td>NaN</td>\n",
              "      <td>NaN</td>\n",
              "      <td>2001.327221</td>\n",
              "      <td>NaN</td>\n",
              "      <td>85.973052</td>\n",
              "      <td>NaN</td>\n",
              "      <td>NaN</td>\n",
              "      <td>2.791452</td>\n",
              "      <td>NaN</td>\n",
              "      <td>5.976395</td>\n",
              "      <td>8.533614e+03</td>\n",
              "      <td>6.910204</td>\n",
              "      <td>5.984247</td>\n",
              "    </tr>\n",
              "    <tr>\n",
              "      <th>std</th>\n",
              "      <td>NaN</td>\n",
              "      <td>NaN</td>\n",
              "      <td>NaN</td>\n",
              "      <td>NaN</td>\n",
              "      <td>25.810071</td>\n",
              "      <td>NaN</td>\n",
              "      <td>33.512466</td>\n",
              "      <td>NaN</td>\n",
              "      <td>NaN</td>\n",
              "      <td>4.148958</td>\n",
              "      <td>NaN</td>\n",
              "      <td>1.343842</td>\n",
              "      <td>4.592015e+04</td>\n",
              "      <td>30.004098</td>\n",
              "      <td>1.517986</td>\n",
              "    </tr>\n",
              "    <tr>\n",
              "      <th>min</th>\n",
              "      <td>NaN</td>\n",
              "      <td>NaN</td>\n",
              "      <td>NaN</td>\n",
              "      <td>NaN</td>\n",
              "      <td>1912.000000</td>\n",
              "      <td>NaN</td>\n",
              "      <td>1.000000</td>\n",
              "      <td>NaN</td>\n",
              "      <td>NaN</td>\n",
              "      <td>1.000000</td>\n",
              "      <td>NaN</td>\n",
              "      <td>1.100000</td>\n",
              "      <td>5.000000e+00</td>\n",
              "      <td>0.000011</td>\n",
              "      <td>0.800000</td>\n",
              "    </tr>\n",
              "    <tr>\n",
              "      <th>25%</th>\n",
              "      <td>NaN</td>\n",
              "      <td>NaN</td>\n",
              "      <td>NaN</td>\n",
              "      <td>NaN</td>\n",
              "      <td>1995.500000</td>\n",
              "      <td>NaN</td>\n",
              "      <td>65.000000</td>\n",
              "      <td>NaN</td>\n",
              "      <td>NaN</td>\n",
              "      <td>1.000000</td>\n",
              "      <td>NaN</td>\n",
              "      <td>5.100000</td>\n",
              "      <td>1.170000e+02</td>\n",
              "      <td>1.232000</td>\n",
              "      <td>5.100000</td>\n",
              "    </tr>\n",
              "    <tr>\n",
              "      <th>50%</th>\n",
              "      <td>NaN</td>\n",
              "      <td>NaN</td>\n",
              "      <td>NaN</td>\n",
              "      <td>NaN</td>\n",
              "      <td>2014.000000</td>\n",
              "      <td>NaN</td>\n",
              "      <td>89.000000</td>\n",
              "      <td>NaN</td>\n",
              "      <td>NaN</td>\n",
              "      <td>1.000000</td>\n",
              "      <td>NaN</td>\n",
              "      <td>6.100000</td>\n",
              "      <td>4.625000e+02</td>\n",
              "      <td>2.536000</td>\n",
              "      <td>6.000000</td>\n",
              "    </tr>\n",
              "    <tr>\n",
              "      <th>75%</th>\n",
              "      <td>NaN</td>\n",
              "      <td>NaN</td>\n",
              "      <td>NaN</td>\n",
              "      <td>NaN</td>\n",
              "      <td>2018.000000</td>\n",
              "      <td>NaN</td>\n",
              "      <td>102.000000</td>\n",
              "      <td>NaN</td>\n",
              "      <td>NaN</td>\n",
              "      <td>3.000000</td>\n",
              "      <td>NaN</td>\n",
              "      <td>6.900000</td>\n",
              "      <td>2.236250e+03</td>\n",
              "      <td>5.634000</td>\n",
              "      <td>6.900000</td>\n",
              "    </tr>\n",
              "    <tr>\n",
              "      <th>max</th>\n",
              "      <td>NaN</td>\n",
              "      <td>NaN</td>\n",
              "      <td>NaN</td>\n",
              "      <td>NaN</td>\n",
              "      <td>2022.000000</td>\n",
              "      <td>NaN</td>\n",
              "      <td>549.000000</td>\n",
              "      <td>NaN</td>\n",
              "      <td>NaN</td>\n",
              "      <td>51.000000</td>\n",
              "      <td>NaN</td>\n",
              "      <td>9.900000</td>\n",
              "      <td>1.133692e+06</td>\n",
              "      <td>1437.906000</td>\n",
              "      <td>10.000000</td>\n",
              "    </tr>\n",
              "  </tbody>\n",
              "</table>\n",
              "</div>"
            ],
            "text/plain": [
              "             id      title   type         description  release_year  \\\n",
              "count      9871       9871   9871                9752   9871.000000   \n",
              "unique     9868       9737      2                9734           NaN   \n",
              "top     tm66674  King Lear  MOVIE  No overview found.           NaN   \n",
              "freq          2          3   8514                   5           NaN   \n",
              "mean        NaN        NaN    NaN                 NaN   2001.327221   \n",
              "std         NaN        NaN    NaN                 NaN     25.810071   \n",
              "min         NaN        NaN    NaN                 NaN   1912.000000   \n",
              "25%         NaN        NaN    NaN                 NaN   1995.500000   \n",
              "50%         NaN        NaN    NaN                 NaN   2014.000000   \n",
              "75%         NaN        NaN    NaN                 NaN   2018.000000   \n",
              "max         NaN        NaN    NaN                 NaN   2022.000000   \n",
              "\n",
              "       age_certification      runtime     genres production_countries  \\\n",
              "count               3384  9871.000000       9871                 9871   \n",
              "unique                11          NaN       2028                  497   \n",
              "top                    R          NaN  ['drama']               ['US']   \n",
              "freq                1249          NaN        908                 4810   \n",
              "mean                 NaN    85.973052        NaN                  NaN   \n",
              "std                  NaN    33.512466        NaN                  NaN   \n",
              "min                  NaN     1.000000        NaN                  NaN   \n",
              "25%                  NaN    65.000000        NaN                  NaN   \n",
              "50%                  NaN    89.000000        NaN                  NaN   \n",
              "75%                  NaN   102.000000        NaN                  NaN   \n",
              "max                  NaN   549.000000        NaN                  NaN   \n",
              "\n",
              "            seasons    imdb_id   imdb_score    imdb_votes  tmdb_popularity  \\\n",
              "count   1357.000000       9204  8850.000000  8.840000e+03      9324.000000   \n",
              "unique          NaN       9201          NaN           NaN              NaN   \n",
              "top             NaN  tt0033683          NaN           NaN              NaN   \n",
              "freq            NaN          2          NaN           NaN              NaN   \n",
              "mean       2.791452        NaN     5.976395  8.533614e+03         6.910204   \n",
              "std        4.148958        NaN     1.343842  4.592015e+04        30.004098   \n",
              "min        1.000000        NaN     1.100000  5.000000e+00         0.000011   \n",
              "25%        1.000000        NaN     5.100000  1.170000e+02         1.232000   \n",
              "50%        1.000000        NaN     6.100000  4.625000e+02         2.536000   \n",
              "75%        3.000000        NaN     6.900000  2.236250e+03         5.634000   \n",
              "max       51.000000        NaN     9.900000  1.133692e+06      1437.906000   \n",
              "\n",
              "         tmdb_score  \n",
              "count   7789.000000  \n",
              "unique          NaN  \n",
              "top             NaN  \n",
              "freq            NaN  \n",
              "mean       5.984247  \n",
              "std        1.517986  \n",
              "min        0.800000  \n",
              "25%        5.100000  \n",
              "50%        6.000000  \n",
              "75%        6.900000  \n",
              "max       10.000000  "
            ]
          },
          "metadata": {},
          "output_type": "display_data"
        },
        {
          "data": {
            "text/html": [
              "<div>\n",
              "<style scoped>\n",
              "    .dataframe tbody tr th:only-of-type {\n",
              "        vertical-align: middle;\n",
              "    }\n",
              "\n",
              "    .dataframe tbody tr th {\n",
              "        vertical-align: top;\n",
              "    }\n",
              "\n",
              "    .dataframe thead th {\n",
              "        text-align: right;\n",
              "    }\n",
              "</style>\n",
              "<table border=\"1\" class=\"dataframe\">\n",
              "  <thead>\n",
              "    <tr style=\"text-align: right;\">\n",
              "      <th></th>\n",
              "      <th>person_id</th>\n",
              "      <th>id</th>\n",
              "      <th>name</th>\n",
              "      <th>character</th>\n",
              "      <th>role</th>\n",
              "    </tr>\n",
              "  </thead>\n",
              "  <tbody>\n",
              "    <tr>\n",
              "      <th>count</th>\n",
              "      <td>1.242350e+05</td>\n",
              "      <td>124235</td>\n",
              "      <td>124235</td>\n",
              "      <td>107948</td>\n",
              "      <td>124235</td>\n",
              "    </tr>\n",
              "    <tr>\n",
              "      <th>unique</th>\n",
              "      <td>NaN</td>\n",
              "      <td>8861</td>\n",
              "      <td>79758</td>\n",
              "      <td>71097</td>\n",
              "      <td>2</td>\n",
              "    </tr>\n",
              "    <tr>\n",
              "      <th>top</th>\n",
              "      <td>NaN</td>\n",
              "      <td>tm458582</td>\n",
              "      <td>George 'Gabby' Hayes</td>\n",
              "      <td>Himself</td>\n",
              "      <td>ACTOR</td>\n",
              "    </tr>\n",
              "    <tr>\n",
              "      <th>freq</th>\n",
              "      <td>NaN</td>\n",
              "      <td>137</td>\n",
              "      <td>49</td>\n",
              "      <td>1540</td>\n",
              "      <td>115846</td>\n",
              "    </tr>\n",
              "    <tr>\n",
              "      <th>mean</th>\n",
              "      <td>4.064737e+05</td>\n",
              "      <td>NaN</td>\n",
              "      <td>NaN</td>\n",
              "      <td>NaN</td>\n",
              "      <td>NaN</td>\n",
              "    </tr>\n",
              "    <tr>\n",
              "      <th>std</th>\n",
              "      <td>5.616296e+05</td>\n",
              "      <td>NaN</td>\n",
              "      <td>NaN</td>\n",
              "      <td>NaN</td>\n",
              "      <td>NaN</td>\n",
              "    </tr>\n",
              "    <tr>\n",
              "      <th>min</th>\n",
              "      <td>1.000000e+00</td>\n",
              "      <td>NaN</td>\n",
              "      <td>NaN</td>\n",
              "      <td>NaN</td>\n",
              "      <td>NaN</td>\n",
              "    </tr>\n",
              "    <tr>\n",
              "      <th>25%</th>\n",
              "      <td>3.899200e+04</td>\n",
              "      <td>NaN</td>\n",
              "      <td>NaN</td>\n",
              "      <td>NaN</td>\n",
              "      <td>NaN</td>\n",
              "    </tr>\n",
              "    <tr>\n",
              "      <th>50%</th>\n",
              "      <td>1.339490e+05</td>\n",
              "      <td>NaN</td>\n",
              "      <td>NaN</td>\n",
              "      <td>NaN</td>\n",
              "      <td>NaN</td>\n",
              "    </tr>\n",
              "    <tr>\n",
              "      <th>75%</th>\n",
              "      <td>5.712560e+05</td>\n",
              "      <td>NaN</td>\n",
              "      <td>NaN</td>\n",
              "      <td>NaN</td>\n",
              "      <td>NaN</td>\n",
              "    </tr>\n",
              "    <tr>\n",
              "      <th>max</th>\n",
              "      <td>2.371153e+06</td>\n",
              "      <td>NaN</td>\n",
              "      <td>NaN</td>\n",
              "      <td>NaN</td>\n",
              "      <td>NaN</td>\n",
              "    </tr>\n",
              "  </tbody>\n",
              "</table>\n",
              "</div>"
            ],
            "text/plain": [
              "           person_id        id                  name character    role\n",
              "count   1.242350e+05    124235                124235    107948  124235\n",
              "unique           NaN      8861                 79758     71097       2\n",
              "top              NaN  tm458582  George 'Gabby' Hayes   Himself   ACTOR\n",
              "freq             NaN       137                    49      1540  115846\n",
              "mean    4.064737e+05       NaN                   NaN       NaN     NaN\n",
              "std     5.616296e+05       NaN                   NaN       NaN     NaN\n",
              "min     1.000000e+00       NaN                   NaN       NaN     NaN\n",
              "25%     3.899200e+04       NaN                   NaN       NaN     NaN\n",
              "50%     1.339490e+05       NaN                   NaN       NaN     NaN\n",
              "75%     5.712560e+05       NaN                   NaN       NaN     NaN\n",
              "max     2.371153e+06       NaN                   NaN       NaN     NaN"
            ]
          },
          "metadata": {},
          "output_type": "display_data"
        }
      ],
      "source": [
        "# Dataset Describe \n",
        "display(df1.describe(include='all'), df2.describe(include='all'))"
      ]
    },
    {
      "cell_type": "markdown",
      "metadata": {
        "id": "PBTbrJXOngz2"
      },
      "source": [
        "### Variables Description"
      ]
    },
    {
      "cell_type": "markdown",
      "metadata": {
        "id": "aJV4KIxSnxay"
      },
      "source": [
        "Answer Here"
      ]
    },
    {
      "cell_type": "markdown",
      "metadata": {
        "id": "u3PMJOP6ngxN"
      },
      "source": [
        "### Check Unique Values for each variable."
      ]
    },
    {
      "cell_type": "code",
      "execution_count": 12,
      "metadata": {
        "id": "zms12Yq5n-jE"
      },
      "outputs": [
        {
          "data": {
            "text/plain": [
              "id                      9868\n",
              "title                   9737\n",
              "type                       2\n",
              "description             9734\n",
              "release_year             110\n",
              "age_certification         11\n",
              "runtime                  207\n",
              "genres                  2028\n",
              "production_countries     497\n",
              "seasons                   32\n",
              "imdb_id                 9201\n",
              "imdb_score                86\n",
              "imdb_votes              3650\n",
              "tmdb_popularity         5325\n",
              "tmdb_score                89\n",
              "dtype: int64"
            ]
          },
          "metadata": {},
          "output_type": "display_data"
        },
        {
          "data": {
            "text/plain": [
              "person_id    80508\n",
              "id            8861\n",
              "name         79758\n",
              "character    71097\n",
              "role             2\n",
              "dtype: int64"
            ]
          },
          "metadata": {},
          "output_type": "display_data"
        }
      ],
      "source": [
        "# Check Unique Values for each variable. \n",
        "display(df1.nunique(), \n",
        "         df2.nunique())"
      ]
    },
    {
      "cell_type": "markdown",
      "metadata": {
        "id": "dauF4eBmngu3"
      },
      "source": [
        "## 3. ***Data Wrangling***"
      ]
    },
    {
      "cell_type": "markdown",
      "metadata": {
        "id": "bKJF3rekwFvQ"
      },
      "source": [
        "### Data Wrangling Code"
      ]
    },
    {
      "cell_type": "code",
      "execution_count": null,
      "metadata": {
        "id": "wk-9a2fpoLcV"
      },
      "outputs": [],
      "source": [
        "df1[\"production_countries\"]\n",
        "def Clean(Unclean_list):\n",
        "    if pd.isna(Unclean_list):\n",
        "        return None\n",
        "    if Unclean_list == \"[]\":\n",
        "            return np.nan\n",
        "    return Unclean_list\n",
        "df1['production_countries'] = df1['production_countries'].apply(Clean)\n",
        "df1['genres'] = df1['genres'].apply(Clean)\n",
        "df1['tmdb_popularity'] = df1['tmdb_popularity'].apply(lambda x: round(x, 1))"
      ]
    },
    {
      "cell_type": "code",
      "execution_count": 30,
      "metadata": {},
      "outputs": [],
      "source": [
        "df1.drop_duplicates(inplace=True)\n",
        "df2.drop_duplicates(inplace=True)"
      ]
    },
    {
      "cell_type": "code",
      "execution_count": 31,
      "metadata": {},
      "outputs": [],
      "source": [
        "actors_df = df2[df2['role'] == 'ACTOR'].copy()\n",
        "directors_df = df2[df2['role'] == 'DIRECTOR'].copy()"
      ]
    },
    {
      "cell_type": "code",
      "execution_count": 36,
      "metadata": {},
      "outputs": [
        {
          "data": {
            "text/html": [
              "<div>\n",
              "<style scoped>\n",
              "    .dataframe tbody tr th:only-of-type {\n",
              "        vertical-align: middle;\n",
              "    }\n",
              "\n",
              "    .dataframe tbody tr th {\n",
              "        vertical-align: top;\n",
              "    }\n",
              "\n",
              "    .dataframe thead th {\n",
              "        text-align: right;\n",
              "    }\n",
              "</style>\n",
              "<table border=\"1\" class=\"dataframe\">\n",
              "  <thead>\n",
              "    <tr style=\"text-align: right;\">\n",
              "      <th></th>\n",
              "      <th>id</th>\n",
              "      <th>title</th>\n",
              "      <th>type</th>\n",
              "      <th>description</th>\n",
              "      <th>release_year</th>\n",
              "      <th>age_certification</th>\n",
              "      <th>runtime</th>\n",
              "      <th>genres</th>\n",
              "      <th>production_countries</th>\n",
              "      <th>seasons</th>\n",
              "      <th>imdb_id</th>\n",
              "      <th>imdb_score</th>\n",
              "      <th>imdb_votes</th>\n",
              "      <th>tmdb_popularity</th>\n",
              "      <th>tmdb_score</th>\n",
              "      <th>person_id</th>\n",
              "      <th>name</th>\n",
              "      <th>character</th>\n",
              "      <th>role</th>\n",
              "    </tr>\n",
              "  </thead>\n",
              "  <tbody>\n",
              "    <tr>\n",
              "      <th>0</th>\n",
              "      <td>tm100001</td>\n",
              "      <td>The Lucky Texan</td>\n",
              "      <td>MOVIE</td>\n",
              "      <td>Jerry Mason, a young Texan, and Jake Benson, a...</td>\n",
              "      <td>1934</td>\n",
              "      <td>NaN</td>\n",
              "      <td>61</td>\n",
              "      <td>['western', 'action', 'romance']</td>\n",
              "      <td>['US']</td>\n",
              "      <td>NaN</td>\n",
              "      <td>tt0025440</td>\n",
              "      <td>5.6</td>\n",
              "      <td>1213.0</td>\n",
              "      <td>4.1</td>\n",
              "      <td>4.7</td>\n",
              "      <td>25629, 578138, 27356, 100231, 13327, 133934, 1...</td>\n",
              "      <td>John Wayne, Barbara Sheldon, Lloyd Whitlock, G...</td>\n",
              "      <td>Jerry Mason, Betty Benson, Harris, Jake 'Grand...</td>\n",
              "      <td>ACTOR, ACTOR, ACTOR, ACTOR, ACTOR, ACTOR, ACTO...</td>\n",
              "    </tr>\n",
              "    <tr>\n",
              "      <th>1</th>\n",
              "      <td>tm1000022</td>\n",
              "      <td>Boonie Bears: The Wild Life</td>\n",
              "      <td>MOVIE</td>\n",
              "      <td>Bear brothers Briar and Bramble set off on an ...</td>\n",
              "      <td>2021</td>\n",
              "      <td>NaN</td>\n",
              "      <td>99</td>\n",
              "      <td>['scifi', 'animation']</td>\n",
              "      <td>['CN']</td>\n",
              "      <td>NaN</td>\n",
              "      <td>tt11654032</td>\n",
              "      <td>5.4</td>\n",
              "      <td>117.0</td>\n",
              "      <td>6.1</td>\n",
              "      <td>3.8</td>\n",
              "      <td>1793831, 1793745, 159207, 2289442, 159208</td>\n",
              "      <td>Chris Boike, Nikki Stinson, Tan Xiao, 张伟, Leon...</td>\n",
              "      <td>nan, nan, nan, 熊大 (配音), nan</td>\n",
              "      <td>ACTOR, ACTOR, ACTOR, ACTOR, DIRECTOR</td>\n",
              "    </tr>\n",
              "    <tr>\n",
              "      <th>2</th>\n",
              "      <td>tm1000169</td>\n",
              "      <td>Bad Cupid</td>\n",
              "      <td>MOVIE</td>\n",
              "      <td>Archie is a God on a mission to ensure that tr...</td>\n",
              "      <td>2021</td>\n",
              "      <td>NaN</td>\n",
              "      <td>81</td>\n",
              "      <td>['romance', 'comedy']</td>\n",
              "      <td>NaN</td>\n",
              "      <td>NaN</td>\n",
              "      <td>tt11333938</td>\n",
              "      <td>4.4</td>\n",
              "      <td>181.0</td>\n",
              "      <td>3.3</td>\n",
              "      <td>4.8</td>\n",
              "      <td>2853, 304835, 51478, 1795358, 1795272, 1795835...</td>\n",
              "      <td>John Rhys-Davies, Shane Nepveu, Briana Marin, ...</td>\n",
              "      <td>Archie, Dave, Morris, Henry, Stella, Denise, M...</td>\n",
              "      <td>ACTOR, ACTOR, ACTOR, ACTOR, ACTOR, ACTOR, ACTO...</td>\n",
              "    </tr>\n",
              "    <tr>\n",
              "      <th>3</th>\n",
              "      <td>tm1000186</td>\n",
              "      <td>Carol's Christmas</td>\n",
              "      <td>MOVIE</td>\n",
              "      <td>Scrooge encounters the ghost of her late busin...</td>\n",
              "      <td>2021</td>\n",
              "      <td>NaN</td>\n",
              "      <td>70</td>\n",
              "      <td>['drama', 'thriller']</td>\n",
              "      <td>NaN</td>\n",
              "      <td>NaN</td>\n",
              "      <td>tt13814142</td>\n",
              "      <td>2.0</td>\n",
              "      <td>48.0</td>\n",
              "      <td>0.6</td>\n",
              "      <td>NaN</td>\n",
              "      <td>NaN</td>\n",
              "      <td>NaN</td>\n",
              "      <td>NaN</td>\n",
              "      <td>NaN</td>\n",
              "    </tr>\n",
              "    <tr>\n",
              "      <th>4</th>\n",
              "      <td>tm1000203</td>\n",
              "      <td>Digging to Death</td>\n",
              "      <td>MOVIE</td>\n",
              "      <td>David Van Owen moves into a mysterious house a...</td>\n",
              "      <td>2021</td>\n",
              "      <td>NaN</td>\n",
              "      <td>96</td>\n",
              "      <td>['horror', 'thriller']</td>\n",
              "      <td>['US']</td>\n",
              "      <td>NaN</td>\n",
              "      <td>tt7752100</td>\n",
              "      <td>4.5</td>\n",
              "      <td>464.0</td>\n",
              "      <td>3.5</td>\n",
              "      <td>5.8</td>\n",
              "      <td>67535, 14513, 177968, 3072, 25459, 242690, 132...</td>\n",
              "      <td>Ford Austin, Tom Fitzpatrick, Rachel Alig, Ric...</td>\n",
              "      <td>David Vanowen, The Corpse, Jessica Vanowen, Al...</td>\n",
              "      <td>ACTOR, ACTOR, ACTOR, ACTOR, ACTOR, ACTOR, ACTO...</td>\n",
              "    </tr>\n",
              "  </tbody>\n",
              "</table>\n",
              "</div>"
            ],
            "text/plain": [
              "          id                        title   type  \\\n",
              "0   tm100001              The Lucky Texan  MOVIE   \n",
              "1  tm1000022  Boonie Bears: The Wild Life  MOVIE   \n",
              "2  tm1000169                    Bad Cupid  MOVIE   \n",
              "3  tm1000186            Carol's Christmas  MOVIE   \n",
              "4  tm1000203             Digging to Death  MOVIE   \n",
              "\n",
              "                                         description  release_year  \\\n",
              "0  Jerry Mason, a young Texan, and Jake Benson, a...          1934   \n",
              "1  Bear brothers Briar and Bramble set off on an ...          2021   \n",
              "2  Archie is a God on a mission to ensure that tr...          2021   \n",
              "3  Scrooge encounters the ghost of her late busin...          2021   \n",
              "4  David Van Owen moves into a mysterious house a...          2021   \n",
              "\n",
              "  age_certification  runtime                            genres  \\\n",
              "0               NaN       61  ['western', 'action', 'romance']   \n",
              "1               NaN       99            ['scifi', 'animation']   \n",
              "2               NaN       81             ['romance', 'comedy']   \n",
              "3               NaN       70             ['drama', 'thriller']   \n",
              "4               NaN       96            ['horror', 'thriller']   \n",
              "\n",
              "  production_countries  seasons     imdb_id  imdb_score  imdb_votes  \\\n",
              "0               ['US']      NaN   tt0025440         5.6      1213.0   \n",
              "1               ['CN']      NaN  tt11654032         5.4       117.0   \n",
              "2                  NaN      NaN  tt11333938         4.4       181.0   \n",
              "3                  NaN      NaN  tt13814142         2.0        48.0   \n",
              "4               ['US']      NaN   tt7752100         4.5       464.0   \n",
              "\n",
              "   tmdb_popularity  tmdb_score  \\\n",
              "0              4.1         4.7   \n",
              "1              6.1         3.8   \n",
              "2              3.3         4.8   \n",
              "3              0.6         NaN   \n",
              "4              3.5         5.8   \n",
              "\n",
              "                                           person_id  \\\n",
              "0  25629, 578138, 27356, 100231, 13327, 133934, 1...   \n",
              "1          1793831, 1793745, 159207, 2289442, 159208   \n",
              "2  2853, 304835, 51478, 1795358, 1795272, 1795835...   \n",
              "3                                                NaN   \n",
              "4  67535, 14513, 177968, 3072, 25459, 242690, 132...   \n",
              "\n",
              "                                                name  \\\n",
              "0  John Wayne, Barbara Sheldon, Lloyd Whitlock, G...   \n",
              "1  Chris Boike, Nikki Stinson, Tan Xiao, 张伟, Leon...   \n",
              "2  John Rhys-Davies, Shane Nepveu, Briana Marin, ...   \n",
              "3                                                NaN   \n",
              "4  Ford Austin, Tom Fitzpatrick, Rachel Alig, Ric...   \n",
              "\n",
              "                                           character  \\\n",
              "0  Jerry Mason, Betty Benson, Harris, Jake 'Grand...   \n",
              "1                        nan, nan, nan, 熊大 (配音), nan   \n",
              "2  Archie, Dave, Morris, Henry, Stella, Denise, M...   \n",
              "3                                                NaN   \n",
              "4  David Vanowen, The Corpse, Jessica Vanowen, Al...   \n",
              "\n",
              "                                                role  \n",
              "0  ACTOR, ACTOR, ACTOR, ACTOR, ACTOR, ACTOR, ACTO...  \n",
              "1               ACTOR, ACTOR, ACTOR, ACTOR, DIRECTOR  \n",
              "2  ACTOR, ACTOR, ACTOR, ACTOR, ACTOR, ACTOR, ACTO...  \n",
              "3                                                NaN  \n",
              "4  ACTOR, ACTOR, ACTOR, ACTOR, ACTOR, ACTOR, ACTO...  "
            ]
          },
          "execution_count": 36,
          "metadata": {},
          "output_type": "execute_result"
        }
      ],
      "source": [
        "df2 = df2.groupby('id').agg({\n",
        "    'person_id': lambda x: ', '.join(map(str, x)), 'name': lambda x: ', '.join(x), 'character': lambda x: ', '.join(map(str, x)), 'role': lambda x: ', '.join(x)}).reset_index()\n",
        "df3 = pd.merge(df1, df2, on='id', how='outer')\n",
        "df3.head()"
      ]
    },
    {
      "cell_type": "code",
      "execution_count": 33,
      "metadata": {},
      "outputs": [],
      "source": [
        "movies_df = df3[df3['type'] == 'MOVIE'].copy()\n",
        "shows_df = df3[df3['type'] == 'SHOW'].copy()"
      ]
    },
    {
      "cell_type": "markdown",
      "metadata": {
        "id": "MSa1f5Uengrz"
      },
      "source": [
        "### What all manipulations have you done and insights you found?"
      ]
    },
    {
      "cell_type": "markdown",
      "metadata": {
        "id": "LbyXE7I1olp8"
      },
      "source": [
        "The dataset was cleaned by handling missing values in the production_countries and genres columns, replacing empty lists with NaN for better accuracy. The tmdb_popularity values were rounded for consistency, and duplicate rows were removed to prevent data inflation.\n",
        "\n",
        "Actors and directors were separated into distinct datasets, and multiple credits per title were combined into single records. The titles and credits were merged, creating a refined dataset (df3) with aggregated actor details. Finally, the data was split into separate movie (movies_df) and show (shows_df) datasets for more focused analysis."
      ]
    },
    {
      "cell_type": "markdown",
      "metadata": {
        "id": "GF8Ens_Soomf"
      },
      "source": [
        "## ***4. Data Vizualization, Storytelling & Experimenting with charts : Understand the relationships between variables***"
      ]
    },
    {
      "cell_type": "markdown",
      "metadata": {
        "id": "0wOQAZs5pc--"
      },
      "source": [
        "#### Chart - 1  Distribution of Shows vs. Movies"
      ]
    },
    {
      "cell_type": "code",
      "execution_count": 34,
      "metadata": {
        "id": "7v_ESjsspbW7"
      },
      "outputs": [
        {
          "data": {
            "image/png": "[encoded data removed]",
            "text/plain": [
              "<Figure size 640x480 with 1 Axes>"
            ]
          },
          "metadata": {},
          "output_type": "display_data"
        }
      ],
      "source": [
        "df1['type'].value_counts().plot(kind='bar', color='red')\n",
        "plt.xlabel(\"Type\")\n",
        "plt.ylabel(\"Count\")\n",
        "plt.title(\"Distribution of Shows vs. Movies\")\n",
        "plt.xticks(rotation=0)\n",
        "plt.show()"
      ]
    },
    {
      "cell_type": "markdown",
      "metadata": {
        "id": "K5QZ13OEpz2H"
      },
      "source": [
        "##### 1. Why did you pick the specific chart?"
      ]
    },
    {
      "cell_type": "markdown",
      "metadata": {
        "id": "XESiWehPqBRc"
      },
      "source": [
        "I chose a **bar chart** because it clearly compares the number of movies and shows, making it easy to see the difference at a glance. The red color highlights the contrast effectively."
      ]
    },
    {
      "cell_type": "markdown",
      "metadata": {
        "id": "lQ7QKXXCp7Bj"
      },
      "source": [
        "##### 2. What is/are the insight(s) found from the chart?"
      ]
    },
    {
      "cell_type": "markdown",
      "metadata": {
        "id": "C_j1G7yiqdRP"
      },
      "source": [
        "The chart shows that **movies are far more common than shows** in the dataset, suggesting either higher production rates or better data availability for movies."
      ]
    },
    {
      "cell_type": "markdown",
      "metadata": {
        "id": "448CDAPjqfQr"
      },
      "source": [
        "##### 3. Will the gained insights help creating a positive business impact?\n",
        "Are there any insights that lead to negative growth? Justify with specific reason."
      ]
    },
    {
      "cell_type": "markdown",
      "metadata": {
        "id": "3cspy4FjqxJW"
      },
      "source": [
        "Yes, the insights can **positively impact business** by helping platforms focus more on **movie-related content and marketing strategies** to attract viewers.  \n",
        "\n",
        "However, the **lower number of shows** could be a **negative signal** if the platform relies on TV series for engagement. It may indicate **limited content availability**, potentially reducing viewer retention for users who prefer shows."
      ]
    },
    {
      "cell_type": "markdown",
      "metadata": {
        "id": "KSlN3yHqYklG"
      },
      "source": [
        "#### Chart - 2  Top 10 Most Popular Movies"
      ]
    },
    {
      "cell_type": "code",
      "execution_count": 37,
      "metadata": {
        "id": "R4YgtaqtYklH"
      },
      "outputs": [
        {
          "data": {
            "image/png": "[encoded data removed]",
            "text/plain": [
              "<Figure size 1200x600 with 1 Axes>"
            ]
          },
          "metadata": {},
          "output_type": "display_data"
        }
      ],
      "source": [
        "top_movies = movies_df.nlargest(10, 'tmdb_popularity')[['title', 'tmdb_popularity']]\n",
        "\n",
        "plt.figure(figsize=(12, 6))\n",
        "colors = sns.color_palette(\"coolwarm\", len(top_movies))  # Gradient color scheme\n",
        "plt.barh(top_movies['title'], top_movies['tmdb_popularity'], color=colors)\n",
        "\n",
        "plt.xlabel(\"Popularity\")\n",
        "plt.ylabel(\"Movie Title\")\n",
        "plt.title(\"Top 10 Most Popular Movies\")\n",
        "\n",
        "plt.gca().invert_yaxis()  # Ensures the most popular movie appears at the top\n",
        "plt.show()\n"
      ]
    },
    {
      "cell_type": "markdown",
      "metadata": {
        "id": "t6dVpIINYklI"
      },
      "source": [
        "##### 1. Why did you pick the specific chart?"
      ]
    },
    {
      "cell_type": "markdown",
      "metadata": {
        "id": "5aaW0BYyYklI"
      },
      "source": [
        "I chose a horizontal bar chart because it makes movie titles easier to read, especially when they are long. The gradient color scheme adds a visual appeal, making it engaging while clearly showing the popularity differences."
      ]
    },
    {
      "cell_type": "markdown",
      "metadata": {
        "id": "ijmpgYnKYklI"
      },
      "source": [
        "##### 2. What is/are the insight(s) found from the chart?"
      ]
    },
    {
      "cell_type": "markdown",
      "metadata": {
        "id": "PSx9atu2YklI"
      },
      "source": [
        "The chart shows that \"All the Old Knives\" is the most popular movie, standing out significantly from the rest. There’s also a noticeable gap between the top few movies and the others, indicating that only a handful dominate in popularity."
      ]
    },
    {
      "cell_type": "markdown",
      "metadata": {
        "id": "-JiQyfWJYklI"
      },
      "source": [
        "##### 3. Will the gained insights help creating a positive business impact?\n",
        "Are there any insights that lead to negative growth? Justify with specific reason."
      ]
    },
    {
      "cell_type": "markdown",
      "metadata": {
        "id": "BcBbebzrYklV"
      },
      "source": [
        "Yes, these insights can help in making strategic decisions, such as promoting high-performing movies more or investing in similar content to attract viewers.  \n",
        "\n",
        "However, the gap in popularity suggests that many movies struggle to gain traction. If not addressed, this could lead to **missed revenue opportunities** and inefficient content investment."
      ]
    },
    {
      "cell_type": "markdown",
      "metadata": {
        "id": "EM7whBJCYoAo"
      },
      "source": [
        "#### Chart - 3 Top 10 Most Popular Shows"
      ]
    },
    {
      "cell_type": "code",
      "execution_count": 38,
      "metadata": {
        "id": "t6GMdE67YoAp"
      },
      "outputs": [
        {
          "name": "stderr",
          "output_type": "stream",
          "text": [
            "C:\\Users\\user\\AppData\\Local\\Temp\\ipykernel_26092\\534712123.py:4: FutureWarning: \n",
            "\n",
            "Passing `palette` without assigning `hue` is deprecated and will be removed in v0.14.0. Assign the `y` variable to `hue` and set `legend=False` for the same effect.\n",
            "\n",
            "  ax = sns.barplot(x='tmdb_popularity', y='title', data=top_shows, palette=\"viridis\", dodge=False)\n"
          ]
        },
        {
          "data": {
            "image/png": "[encoded data removed]",
            "text/plain": [
              "<Figure size 1200x600 with 1 Axes>"
            ]
          },
          "metadata": {},
          "output_type": "display_data"
        }
      ],
      "source": [
        "\n",
        "top_shows = shows_df.nlargest(10, 'tmdb_popularity')[['title', 'tmdb_popularity']]\n",
        "\n",
        "plt.figure(figsize=(12, 6))\n",
        "ax = sns.barplot(x='tmdb_popularity', y='title', data=top_shows, palette=\"viridis\", dodge=False)\n",
        "\n",
        "# Add value labels\n",
        "for p in ax.patches:\n",
        "    ax.annotate(f'{int(p.get_width())}', (p.get_width() + 5, p.get_y() + 0.5), ha='left', va='center', fontsize=10)\n",
        "\n",
        "plt.xlabel(\"Popularity\", fontsize=12)\n",
        "plt.ylabel(\"Show Title\", fontsize=12)\n",
        "plt.title(\"Top 10 Most Popular Shows\", fontsize=14, fontweight='bold')\n",
        "\n",
        "# Improve aesthetics\n",
        "plt.grid(axis='x', linestyle='--', alpha=0.7)\n",
        "plt.gca().set_facecolor(\"#f5f5f5\")  # Light background\n",
        "plt.show()"
      ]
    },
    {
      "cell_type": "markdown",
      "metadata": {
        "id": "fge-S5ZAYoAp"
      },
      "source": [
        "##### 1. Why did you pick the specific chart?"
      ]
    },
    {
      "cell_type": "markdown",
      "metadata": {
        "id": "5dBItgRVYoAp"
      },
      "source": [
        "I chose this chart because a horizontal bar chart makes long show titles easy to read, while the color gradient adds a visually appealing touch. The value labels give clear insights at a glance, and the subtle grid lines improve readability without clutter. It's all about making data both engaging and easy to understand! "
      ]
    },
    {
      "cell_type": "markdown",
      "metadata": {
        "id": "85gYPyotYoAp"
      },
      "source": [
        "##### 2. What is/are the insight(s) found from the chart?"
      ]
    },
    {
      "cell_type": "markdown",
      "metadata": {
        "id": "4jstXR6OYoAp"
      },
      "source": [
        "The chart shows that \"Harina\" is significantly more popular than the other shows, with a big gap in popularity. Shows like \"Suits\" and \"Better Call Saul\" also have strong fan followings. This suggests that crime and legal dramas continue to attract a large audience, while other genres have a more balanced viewership. "
      ]
    },
    {
      "cell_type": "markdown",
      "metadata": {
        "id": "RoGjAbkUYoAp"
      },
      "source": [
        "##### 3. Will the gained insights help creating a positive business impact?\n",
        "Are there any insights that lead to negative growth? Justify with specific reason."
      ]
    },
    {
      "cell_type": "markdown",
      "metadata": {
        "id": "zfJ8IqMcYoAp"
      },
      "source": [
        "Yes! The insights can help businesses invest in trending genres like crime and legal dramas, boosting engagement and revenue. However, the popularity gap suggests that lesser-known shows may struggle, leading to unequal growth. Platforms might need to promote underrated shows to keep a diverse audience interested."
      ]
    },
    {
      "cell_type": "markdown",
      "metadata": {
        "id": "4Of9eVA-YrdM"
      },
      "source": [
        "#### Chart - 4 Top 10 Most Common Genres in Movies & Shows"
      ]
    },
    {
      "cell_type": "code",
      "execution_count": 39,
      "metadata": {
        "id": "irlUoxc8YrdO"
      },
      "outputs": [
        {
          "data": {
            "image/png": "[encoded data removed]",
            "text/plain": [
              "<Figure size 1200x600 with 1 Axes>"
            ]
          },
          "metadata": {},
          "output_type": "display_data"
        }
      ],
      "source": [
        "from collections import Counter\n",
        "import ast\n",
        "# Extract genres from df3\n",
        "all_genres = df3['genres'].dropna().apply(ast.literal_eval).sum()\n",
        "genre_counts = Counter(all_genres).most_common(10)\n",
        "# Plot the top genres\n",
        "plt.figure(figsize=(12, 6))\n",
        "sns.barplot(x=[x[1] for x in genre_counts], y=[x[0] for x in genre_counts], hue=[x[0] for x in genre_counts], palette=\"magma\",legend=False)\n",
        "plt.xlabel(\"Count\")\n",
        "plt.ylabel(\"Genre\")\n",
        "plt.title(\"Top 10 Most Common Genres in Movies & Shows\")\n",
        "plt.show()"
      ]
    },
    {
      "cell_type": "markdown",
      "metadata": {
        "id": "iky9q4vBYrdO"
      },
      "source": [
        "##### 1. Why did you pick the specific chart?"
      ]
    },
    {
      "cell_type": "markdown",
      "metadata": {
        "id": "aJRCwT6DYrdO"
      },
      "source": [
        "A horizontal bar chart makes it easier to compare genres, especially when the labels are long. It also highlights the most popular genres at a glance, helping businesses focus on what audiences love the most! "
      ]
    },
    {
      "cell_type": "markdown",
      "metadata": {
        "id": "F6T5p64dYrdO"
      },
      "source": [
        "##### 2. What is/are the insight(s) found from the chart?"
      ]
    },
    {
      "cell_type": "markdown",
      "metadata": {
        "id": "Xx8WAJvtYrdO"
      },
      "source": [
        "The chart shows that drama and comedy are the most common genres, meaning they dominate the entertainment industry. This suggests that audiences have a strong preference for emotional storytelling and humor."
      ]
    },
    {
      "cell_type": "markdown",
      "metadata": {
        "id": "y-Ehk30pYrdP"
      },
      "source": [
        "##### 3. Will the gained insights help creating a positive business impact?\n",
        "Are there any insights that lead to negative growth? Justify with specific reason."
      ]
    },
    {
      "cell_type": "markdown",
      "metadata": {
        "id": "jLNxxz7MYrdP"
      },
      "source": [
        "Yes, these insights can positively impact business by helping streaming platforms and producers focus on popular genres like drama and comedy to attract more viewers.\n",
        "\n",
        "However, overcrowding in these genres could lead to negative growth, as less diversity might make it harder for new content to stand out. Exploring niche genres could help capture untapped audiences."
      ]
    },
    {
      "cell_type": "markdown",
      "metadata": {
        "id": "bamQiAODYuh1"
      },
      "source": [
        "#### Chart - 5 5 Top 10 Production Countries"
      ]
    },
    {
      "cell_type": "code",
      "execution_count": 40,
      "metadata": {
        "id": "TIJwrbroYuh3"
      },
      "outputs": [
        {
          "data": {
            "image/png": "[encoded data removed]",
            "text/plain": [
              "<Figure size 1200x600 with 1 Axes>"
            ]
          },
          "metadata": {},
          "output_type": "display_data"
        }
      ],
      "source": [
        "from collections import Counter\n",
        "import ast\n",
        "all_countries = df1['production_countries'].dropna().apply(ast.literal_eval).sum()\n",
        "country_counts = Counter(all_countries).most_common(10)\n",
        "plt.figure(figsize=(12, 6))\n",
        "sns.barplot(x=[x[0] for x in country_counts], y=[x[1] for x in country_counts], hue=[x[1] for x in genre_counts], palette=\"coolwarm\",legend=False)\n",
        "plt.xlabel(\"Count\")\n",
        "plt.ylabel(\"Country\")\n",
        "plt.title(\"Top 10 Content Producing Countries\")\n",
        "plt.show()"
      ]
    },
    {
      "cell_type": "markdown",
      "metadata": {
        "id": "QHF8YVU7Yuh3"
      },
      "source": [
        "##### 1. Why did you pick the specific chart?"
      ]
    },
    {
      "cell_type": "markdown",
      "metadata": {
        "id": "dcxuIMRPYuh3"
      },
      "source": [
        "I picked this bar chart because it clearly highlights the top content-producing countries, making it easy to compare their contributions. The bars visually show the dominance of the US while still representing other countries' outputs. It’s a simple yet powerful way to communicate trends at a glance!"
      ]
    },
    {
      "cell_type": "markdown",
      "metadata": {
        "id": "GwzvFGzlYuh3"
      },
      "source": [
        "##### 2. What is/are the insight(s) found from the chart?"
      ]
    },
    {
      "cell_type": "markdown",
      "metadata": {
        "id": "uyqkiB8YYuh3"
      },
      "source": [
        "The chart shows that the US is the biggest producer of content by a huge margin, followed by India and the UK. This suggests that most movies and shows come from a few dominant regions, which could influence global entertainment trends and audience preferences."
      ]
    },
    {
      "cell_type": "markdown",
      "metadata": {
        "id": "qYpmQ266Yuh3"
      },
      "source": [
        "##### 3. Will the gained insights help creating a positive business impact?\n",
        "Are there any insights that lead to negative growth? Justify with specific reason."
      ]
    },
    {
      "cell_type": "markdown",
      "metadata": {
        "id": "_WtzZ_hCYuh4"
      },
      "source": [
        "Yes, these insights can help businesses target key content-producing countries for partnerships and distribution, leading to better market reach. However, the heavy dominance of the US may indicate a lack of diversity in content, which could lead to negative growth by limiting audience engagement in underrepresented regions. Expanding content from other countries could attract a wider global audience. "
      ]
    },
    {
      "cell_type": "markdown",
      "metadata": {},
      "source": [
        "## ***5. Feature Engineering & Data Pre-processing***"
      ]
    },
    {
      "cell_type": "markdown",
      "metadata": {},
      "source": [
        "### 1. Handling Missing Values"
      ]
    },
    {
      "cell_type": "code",
      "execution_count": 48,
      "metadata": {},
      "outputs": [],
      "source": [
        "# Categorical columns: Fill with mode or \"Unknown\"\n",
        "df1[\"description\"] = df1[\"description\"].fillna(\"Unknown description\")\n",
        "df1[\"age_certification\"] = df1[\"age_certification\"].fillna(df1[\"age_certification\"].mode()[0])\n",
        "df1[\"genres\"] = df1[\"genres\"].fillna(\"Unknown genres\").astype(str).str.split(', ')\n",
        "df1[\"production_countries\"] = df1[\"production_countries\"].astype(str)\n",
        "df1[\"production_countries\"] = df1[\"production_countries\"].replace(\"nan\", df1[\"production_countries\"].mode()[0])\n",
        "df1[\"production_countries\"] = df1[\"production_countries\"].str.split(',')\n",
        "df1[\"seasons\"] = df1[\"seasons\"].fillna(\"Not a Show\")\n",
        "df1[\"imdb_id\"] = df1[\"imdb_id\"].fillna(\"Unknown imdb_id\")\n",
        "df1[\"imdb_score\"] = df1[\"imdb_score\"].fillna(df1[\"imdb_score\"].median())\n",
        "df1[\"imdb_votes\"] = df1[\"imdb_votes\"].fillna(df1[\"imdb_votes\"].median())\n",
        "df1[\"tmdb_popularity\"] = df1[\"tmdb_popularity\"].fillna(df1[\"tmdb_popularity\"].median())\n",
        "df1[\"tmdb_score\"] = df1[\"tmdb_score\"].fillna(df1[\"tmdb_score\"].median())\n"
      ]
    },
    {
      "cell_type": "markdown",
      "metadata": {},
      "source": [
        "### 2. Handling Outliers"
      ]
    },
    {
      "cell_type": "code",
      "execution_count": 49,
      "metadata": {},
      "outputs": [],
      "source": [
        "def cap_outliers(column):\n",
        "    Q1 = column.quantile(0.25)\n",
        "    Q3 = column.quantile(0.75)\n",
        "    IQR = Q3 - Q1\n",
        "    lower_bound = Q1 - 1.5 * IQR\n",
        "    upper_bound = Q3 + 1.5 * IQR\n",
        "    return column.clip(lower=lower_bound, upper=upper_bound)\n",
        "# Apply to Numerical columns\n",
        "numerical_cols = [\"imdb_score\", \"imdb_votes\", \"tmdb_popularity\", \"tmdb_score\"]\n",
        "df1[numerical_cols] = df1[numerical_cols].apply(cap_outliers)"
      ]
    },
    {
      "cell_type": "markdown",
      "metadata": {},
      "source": [
        "### 3. Categorical Encoding"
      ]
    },
    {
      "cell_type": "code",
      "execution_count": 50,
      "metadata": {},
      "outputs": [],
      "source": [
        "# One-Hot Encode 'genres'\n",
        "df1_exploded = df1.explode(\"genres\")\n",
        "df1_exploded = pd.get_dummies(df1_exploded, columns=[\"genres\"])\n",
        "df1 = df1_exploded.groupby(\"id\", as_index=False).max()"
      ]
    },
    {
      "cell_type": "markdown",
      "metadata": {},
      "source": [
        "#### 1. Expand Contraction"
      ]
    },
    {
      "cell_type": "code",
      "execution_count": 51,
      "metadata": {},
      "outputs": [
        {
          "name": "stdout",
          "output_type": "stream",
          "text": [
            "Collecting contractions\n",
            "  Downloading contractions-0.1.73-py2.py3-none-any.whl.metadata (1.2 kB)\n",
            "Collecting textsearch>=0.0.21 (from contractions)\n",
            "  Downloading textsearch-0.0.24-py2.py3-none-any.whl.metadata (1.2 kB)\n",
            "Collecting anyascii (from textsearch>=0.0.21->contractions)\n",
            "  Downloading anyascii-0.3.2-py3-none-any.whl.metadata (1.5 kB)\n",
            "Collecting pyahocorasick (from textsearch>=0.0.21->contractions)\n",
            "  Downloading pyahocorasick-2.1.0-cp312-cp312-win_amd64.whl.metadata (13 kB)\n",
            "Downloading contractions-0.1.73-py2.py3-none-any.whl (8.7 kB)\n",
            "Downloading textsearch-0.0.24-py2.py3-none-any.whl (7.6 kB)\n",
            "Downloading anyascii-0.3.2-py3-none-any.whl (289 kB)\n",
            "Downloading pyahocorasick-2.1.0-cp312-cp312-win_amd64.whl (39 kB)\n",
            "Installing collected packages: pyahocorasick, anyascii, textsearch, contractions\n",
            "Successfully installed anyascii-0.3.2 contractions-0.1.73 pyahocorasick-2.1.0 textsearch-0.0.24\n"
          ]
        }
      ],
      "source": [
        "pip install contractions"
      ]
    },
    {
      "cell_type": "code",
      "execution_count": 52,
      "metadata": {},
      "outputs": [],
      "source": [
        "import contractions\n",
        "def preprocess_text(text):\n",
        "    if pd.isna(text):\n",
        "        return \"\"\n",
        "    text = contractions.fix(text)\n",
        "    return text\n",
        "df1[\"description\"] = df1[\"description\"].apply(preprocess_text)\n",
        "df2[\"character\"] = df2[\"character\"].apply(preprocess_text)"
      ]
    },
    {
      "cell_type": "markdown",
      "metadata": {},
      "source": [
        "#### 2. Lower Casing"
      ]
    },
    {
      "cell_type": "code",
      "execution_count": 54,
      "metadata": {},
      "outputs": [],
      "source": [
        "def preprocess_text(text):\n",
        "    if pd.isna(text):\n",
        "        return \"\"\n",
        "    text = text.lower()\n",
        "    return text\n",
        "df1[\"description\"] = df1[\"description\"].apply(preprocess_text)\n",
        "df2[\"character\"] = df2[\"character\"].apply(preprocess_text)"
      ]
    },
    {
      "cell_type": "markdown",
      "metadata": {},
      "source": [
        "#### 3. Removing Punctuations"
      ]
    },
    {
      "cell_type": "code",
      "execution_count": 55,
      "metadata": {},
      "outputs": [],
      "source": [
        "import string\n",
        "def preprocess_text(text):\n",
        "    if pd.isna(text):\n",
        "        return \"\"\n",
        "    text = text.translate(str.maketrans(\"\", \"\", string.punctuation))\n",
        "    return text\n",
        "df1[\"description\"] = df1[\"description\"].apply(preprocess_text)\n",
        "df2[\"character\"] = df2[\"character\"].apply(preprocess_text)"
      ]
    },
    {
      "cell_type": "markdown",
      "metadata": {},
      "source": [
        "#### 4. Removing URLs & Removing words and digits contain digits."
      ]
    },
    {
      "cell_type": "code",
      "execution_count": 56,
      "metadata": {},
      "outputs": [],
      "source": [
        "import re\n",
        "def preprocess_text(text):\n",
        "    if pd.isna(text):\n",
        "        return \"\"\n",
        "    text = re.sub(r\"http\\S+|www\\S+\", \"\", text)  # Remove URLs\n",
        "    text = re.sub(r\"\\b\\w*\\d\\w*\\b\", \"\", text)  # Remove words with numbers\n",
        "    return text\n",
        "df1[\"description\"] = df1[\"description\"].apply(preprocess_text)\n",
        "df2[\"character\"] = df2[\"character\"].apply(preprocess_text)"
      ]
    },
    {
      "cell_type": "markdown",
      "metadata": {},
      "source": [
        "#### 5. Removing Stopwords & Removing White spaces"
      ]
    },
    {
      "cell_type": "code",
      "execution_count": 57,
      "metadata": {},
      "outputs": [
        {
          "name": "stderr",
          "output_type": "stream",
          "text": [
            "[nltk_data] Downloading package punkt_tab to\n",
            "[nltk_data]     C:\\Users\\user\\AppData\\Roaming\\nltk_data...\n",
            "[nltk_data]   Unzipping tokenizers\\punkt_tab.zip.\n",
            "[nltk_data] Downloading package stopwords to\n",
            "[nltk_data]     C:\\Users\\user\\AppData\\Roaming\\nltk_data...\n",
            "[nltk_data]   Unzipping corpora\\stopwords.zip.\n",
            "[nltk_data] Downloading package punkt to\n",
            "[nltk_data]     C:\\Users\\user\\AppData\\Roaming\\nltk_data...\n",
            "[nltk_data]   Package punkt is already up-to-date!\n"
          ]
        }
      ],
      "source": [
        "import nltk\n",
        "nltk.download('punkt_tab')\n",
        "from nltk.corpus import stopwords\n",
        "from nltk.tokenize import word_tokenize\n",
        "\n",
        "nltk.download(\"stopwords\")\n",
        "nltk.download(\"punkt\")\n",
        "\n",
        "stop_words = set(stopwords.words(\"english\"))\n",
        "\n",
        "def remove_stopwords_whitespace(text):\n",
        "    words = word_tokenize(text)\n",
        "    words = [word for word in words if word not in stop_words]\n",
        "    return \" \".join(words)\n",
        "df1[\"description\"] = df1[\"description\"].apply(remove_stopwords_whitespace)\n",
        "df2[\"character\"] = df2[\"character\"].apply(remove_stopwords_whitespace)"
      ]
    },
    {
      "cell_type": "markdown",
      "metadata": {},
      "source": [
        "#### 6. Rephrase Text"
      ]
    },
    {
      "cell_type": "markdown",
      "metadata": {},
      "source": [
        "Rephrasing Not Required!"
      ]
    },
    {
      "cell_type": "markdown",
      "metadata": {},
      "source": [
        "#### 7. Tokenization"
      ]
    },
    {
      "cell_type": "code",
      "execution_count": 58,
      "metadata": {},
      "outputs": [],
      "source": [
        "def tokenize_text(text):\n",
        "    return word_tokenize(text)\n",
        "\n",
        "df1[\"description_tokens\"] = df1[\"description\"].apply(tokenize_text)\n",
        "df2[\"character_tokens\"] = df2[\"character\"].apply(tokenize_text)"
      ]
    },
    {
      "cell_type": "markdown",
      "metadata": {},
      "source": [
        "#### 8. Text Normalization"
      ]
    },
    {
      "cell_type": "code",
      "execution_count": 59,
      "metadata": {},
      "outputs": [
        {
          "name": "stderr",
          "output_type": "stream",
          "text": [
            "[nltk_data] Downloading package wordnet to\n",
            "[nltk_data]     C:\\Users\\user\\AppData\\Roaming\\nltk_data...\n",
            "[nltk_data]   Package wordnet is already up-to-date!\n"
          ]
        }
      ],
      "source": [
        "nltk.download('wordnet')\n",
        "from nltk.stem import WordNetLemmatizer\n",
        "lemmatizer = nltk.WordNetLemmatizer()\n",
        "df1[\"description\"] = df1[\"description\"].apply(lambda text: \" \".join([lemmatizer.lemmatize(word) for word in text.split()]))\n",
        "df2[\"character\"] = df2[\"character\"].apply(lambda text: \" \".join([lemmatizer.lemmatize(word) for word in text.split()]))"
      ]
    },
    {
      "cell_type": "markdown",
      "metadata": {},
      "source": [
        "##### Which text normalization technique have you used and why?"
      ]
    },
    {
      "cell_type": "markdown",
      "metadata": {},
      "source": [
        "I chose lemmatization to improve accuracy in text processing. Unlike stemming, which simply trims word endings (e.g., \"caring\" becomes \"car\"), lemmatization considers the context and reduces words to their meaningful base forms (e.g., \"caring\" becomes \"care\"). This approach ensures that different forms of a word are treated uniformly, enhancing the quality of analysis"
      ]
    },
    {
      "cell_type": "markdown",
      "metadata": {},
      "source": [
        "#### 9. Part of speech tagging"
      ]
    },
    {
      "cell_type": "code",
      "execution_count": 60,
      "metadata": {},
      "outputs": [],
      "source": [
        "import spacy\n",
        "\n",
        "nlp = spacy.load(\"en_core_web_sm\", disable=[\"ner\", \"parser\"])  # Speed optimization\n",
        "\n",
        "def pos_tagging(text):\n",
        "    doc = nlp(text)  # Process text with spaCy\n",
        "    return [(token.text, token.pos_) for token in doc]  # Return word and its POS tag\n",
        "\n",
        "df2[\"character_pos\"] = df2[\"character\"].astype(str).apply(pos_tagging)\n",
        "df1[\"description_pos\"] = df1[\"description\"].astype(str).apply(pos_tagging)\n"
      ]
    },
    {
      "cell_type": "markdown",
      "metadata": {},
      "source": [
        "#### 10. Text Vectorization"
      ]
    },
    {
      "cell_type": "code",
      "execution_count": 61,
      "metadata": {},
      "outputs": [],
      "source": [
        "from sklearn.feature_extraction.text import TfidfVectorizer\n",
        "\n",
        "vectorizer = TfidfVectorizer(max_features=500)  # Use top 500 words\n",
        "df1_tfidf = vectorizer.fit_transform(df1[\"description\"])\n",
        "df2_tfidf = vectorizer.transform(df2[\"character\"])\n"
      ]
    },
    {
      "cell_type": "markdown",
      "metadata": {},
      "source": [
        "##### Which text vectorization technique have you used and why?"
      ]
    },
    {
      "cell_type": "markdown",
      "metadata": {},
      "source": [
        "Used TfidfVectorizer.TF-IDF is computationally efficient and easy to implement."
      ]
    },
    {
      "cell_type": "markdown",
      "metadata": {},
      "source": [
        "### 4. Feature Manipulation & Selection"
      ]
    },
    {
      "cell_type": "markdown",
      "metadata": {},
      "source": [
        "#### 1. Feature Manipulation"
      ]
    },
    {
      "cell_type": "code",
      "execution_count": 62,
      "metadata": {},
      "outputs": [],
      "source": [
        "df1[\"description_length\"] = df1[\"description\"].astype(str).apply(len)\n",
        "df1[\"description_word_count\"] = df1[\"description\"].astype(str).apply(lambda x: len(x.split()))\n",
        "df2[\"character_length\"] = df2[\"character\"].astype(str).apply(len)"
      ]
    },
    {
      "cell_type": "markdown",
      "metadata": {},
      "source": [
        "#### 2. Feature Selection"
      ]
    },
    {
      "cell_type": "code",
      "execution_count": 63,
      "metadata": {},
      "outputs": [
        {
          "name": "stdout",
          "output_type": "stream",
          "text": [
            "Selected Features: ['imdb_votes' 'tmdb_popularity' 'tmdb_score']\n"
          ]
        }
      ],
      "source": [
        "from sklearn.feature_selection import SelectKBest, f_classif\n",
        "from sklearn.preprocessing import StandardScaler\n",
        "numerical_features = [\"imdb_score\", \"imdb_votes\", \"tmdb_popularity\", \"tmdb_score\", \"description_length\"]\n",
        "X = df1[numerical_features]\n",
        "y = df1[\"imdb_score\"]\n",
        "y = y.fillna(y.mean())\n",
        "X = df1[numerical_features].fillna(X.mean())\n",
        "selector = SelectKBest(score_func=f_classif, k=3)\n",
        "X_selected = selector.fit_transform(X, y)\n",
        "selected_features = np.array(numerical_features)[selector.get_support()]\n",
        "print(\"Selected Features:\", selected_features)"
      ]
    },
    {
      "cell_type": "markdown",
      "metadata": {},
      "source": [
        "### 5. Data Transformation"
      ]
    },
    {
      "cell_type": "code",
      "execution_count": 64,
      "metadata": {},
      "outputs": [],
      "source": [
        "for df in [df1, df2]:\n",
        "    if \"imdb_votes\" in df.columns:\n",
        "        df[\"imdb_votes_log\"] = np.log1p(df[\"imdb_votes\"])\n",
        "    if \"tmdb_popularity\" in df.columns:\n",
        "        df[\"tmdb_popularity_log\"] = np.log1p(df[\"tmdb_popularity\"])"
      ]
    },
    {
      "cell_type": "markdown",
      "metadata": {},
      "source": [
        "### 6. Data Scaling"
      ]
    },
    {
      "cell_type": "code",
      "execution_count": 65,
      "metadata": {},
      "outputs": [],
      "source": [
        "from sklearn.preprocessing import StandardScaler, MinMaxScaler\n",
        "scaler = StandardScaler()\n",
        "df1[selected_features] = scaler.fit_transform(df1[selected_features])"
      ]
    },
    {
      "cell_type": "markdown",
      "metadata": {},
      "source": [
        "### 7. Dimesionality Reduction - Not Required."
      ]
    },
    {
      "cell_type": "markdown",
      "metadata": {},
      "source": [
        "### 8. Data Splitting"
      ]
    },
    {
      "cell_type": "code",
      "execution_count": 66,
      "metadata": {},
      "outputs": [],
      "source": [
        "from sklearn.model_selection import train_test_split\n",
        "X_train_df1, X_test_df1, y_train_df1, y_test_df1 = train_test_split(df1[selected_features], y, test_size=0.2, random_state=42)\n",
        "X_train_df2, X_test_df2, y_train_df2, y_test_df2 = train_test_split(df2[[\"character_length\"]], df2[\"role\"], test_size=0.2, random_state=42)"
      ]
    },
    {
      "cell_type": "markdown",
      "metadata": {},
      "source": [
        "### 9. Handling Imbalanced Dataset"
      ]
    },
    {
      "cell_type": "code",
      "execution_count": 67,
      "metadata": {},
      "outputs": [],
      "source": [
        "from imblearn.over_sampling import SMOTE\n",
        "# Apply SMOTE only if the role distribution is imbalanced\n",
        "if df2[\"role\"].value_counts(normalize=True).max() > 0.75:\n",
        "    smote = SMOTE(random_state=42)\n",
        "    X_train_df2, y_train_df2 = smote.fit_resample(X_train_df2, y_train_df2)"
      ]
    },
    {
      "cell_type": "markdown",
      "metadata": {},
      "source": [
        "## ***7. ML Model Implementation***"
      ]
    },
    {
      "cell_type": "code",
      "execution_count": 68,
      "metadata": {},
      "outputs": [
        {
          "name": "stdout",
          "output_type": "stream",
          "text": [
            "Random Forest Accuracy: 0.16187253243090807\n"
          ]
        }
      ],
      "source": [
        "from sklearn.model_selection import train_test_split, cross_val_score, GridSearchCV\n",
        "from sklearn.ensemble import RandomForestClassifier\n",
        "from sklearn.metrics import mean_squared_error, accuracy_score\n",
        "classifier = RandomForestClassifier(n_estimators=100, random_state=42)\n",
        "classifier.fit(X_train_df2, y_train_df2)\n",
        "y_pred_df2 = classifier.predict(X_test_df2)\n",
        "accuracy_df2 = accuracy_score(y_test_df2, y_pred_df2)\n",
        "print(\"Random Forest Accuracy:\", accuracy_df2)"
      ]
    },
    {
      "cell_type": "markdown",
      "metadata": {},
      "source": [
        "#### 1. Cross- Validation & Hyperparameter Tuning"
      ]
    },
    {
      "cell_type": "code",
      "execution_count": 69,
      "metadata": {},
      "outputs": [
        {
          "name": "stderr",
          "output_type": "stream",
          "text": [
            "c:\\Python312\\Lib\\site-packages\\sklearn\\model_selection\\_split.py:776: UserWarning: The least populated class in y has only 1 members, which is less than n_splits=3.\n",
            "  warnings.warn(\n"
          ]
        },
        {
          "name": "stdout",
          "output_type": "stream",
          "text": [
            "Best Random Forest Model: RandomForestClassifier(max_depth=10, n_estimators=200, random_state=42)\n"
          ]
        }
      ],
      "source": [
        "param_grid = {\"n_estimators\": [50, 100, 200], \"max_depth\": [None, 10, 20]}\n",
        "grid_search = GridSearchCV(RandomForestClassifier(random_state=42), param_grid, cv=3, scoring=\"accuracy\")\n",
        "grid_search.fit(X_train_df2, y_train_df2)\n",
        "best_model = grid_search.best_estimator_\n",
        "print(\"Best Random Forest Model:\", best_model)"
      ]
    },
    {
      "cell_type": "markdown",
      "metadata": {
        "id": "JcMwzZxoAimU"
      },
      "source": [
        "## **8. Solution to Business Objective**"
      ]
    },
    {
      "cell_type": "markdown",
      "metadata": {
        "id": "8G2x9gOozGDZ"
      },
      "source": [
        "#### What do you suggest the client to achieve Business Objective ?\n",
        "Explain Briefly."
      ]
    },
    {
      "cell_type": "markdown",
      "metadata": {
        "id": "pASKb0qOza21"
      },
      "source": [
        "Answer Here."
      ]
    },
    {
      "cell_type": "markdown",
      "metadata": {
        "id": "gCX9965dhzqZ"
      },
      "source": [
        "# **Conclusion**"
      ]
    },
    {
      "cell_type": "markdown",
      "metadata": {
        "id": "gIfDvo9L0UH2"
      },
      "source": [
        "### ***Hurrah! You have successfully completed your EDA Capstone Project !!!***"
      ]
    },
    {
      "cell_type": "code",
      "execution_count": null,
      "metadata": {
        "id": "dYX880etpL0x"
      },
      "outputs": [],
      "source": []
    },
    {
      "cell_type": "code",
      "execution_count": null,
      "metadata": {
        "id": "-6Vl263upPVI"
      },
      "outputs": [],
      "source": []
    }
  ],
  "metadata": {
    "colab": {
      "collapsed_sections": [
        "vncDsAP0Gaoa",
        "FJNUwmbgGyua",
        "w6K7xa23Elo4",
        "yQaldy8SH6Dl",
        "PH-0ReGfmX4f",
        "mDgbUHAGgjLW",
        "O_i_v8NEhb9l",
        "HhfV-JJviCcP",
        "Y3lxredqlCYt",
        "3RnN4peoiCZX",
        "x71ZqKXriCWQ",
        "7hBIi_osiCS2",
        "JlHwYmJAmNHm",
        "35m5QtbWiB9F",
        "PoPl-ycgm1ru",
        "H0kj-8xxnORC",
        "nA9Y7ga8ng1Z",
        "PBTbrJXOngz2",
        "u3PMJOP6ngxN",
        "dauF4eBmngu3",
        "bKJF3rekwFvQ",
        "MSa1f5Uengrz",
        "GF8Ens_Soomf",
        "0wOQAZs5pc--",
        "K5QZ13OEpz2H",
        "lQ7QKXXCp7Bj",
        "448CDAPjqfQr",
        "KSlN3yHqYklG",
        "t6dVpIINYklI",
        "ijmpgYnKYklI",
        "-JiQyfWJYklI",
        "EM7whBJCYoAo",
        "fge-S5ZAYoAp",
        "85gYPyotYoAp",
        "RoGjAbkUYoAp",
        "4Of9eVA-YrdM",
        "iky9q4vBYrdO",
        "F6T5p64dYrdO",
        "y-Ehk30pYrdP",
        "bamQiAODYuh1",
        "QHF8YVU7Yuh3",
        "GwzvFGzlYuh3",
        "qYpmQ266Yuh3",
        "OH-pJp9IphqM",
        "bbFf2-_FphqN",
        "_ouA3fa0phqN",
        "Seke61FWphqN",
        "PIIx-8_IphqN",
        "t27r6nlMphqO",
        "r2jJGEOYphqO",
        "b0JNsNcRphqO",
        "BZR9WyysphqO",
        "jj7wYXLtphqO",
        "eZrbJ2SmphqO",
        "rFu4xreNphqO",
        "YJ55k-q6phqO",
        "gCFgpxoyphqP",
        "OVtJsKN_phqQ",
        "lssrdh5qphqQ",
        "U2RJ9gkRphqQ",
        "1M8mcRywphqQ",
        "tgIPom80phqQ",
        "JMzcOPDDphqR",
        "x-EpHcCOp1ci",
        "X_VqEhTip1ck",
        "8zGJKyg5p1ck",
        "PVzmfK_Ep1ck",
        "n3dbpmDWp1ck",
        "ylSl6qgtp1ck",
        "ZWILFDl5p1ck",
        "M7G43BXep1ck",
        "Ag9LCva-p1cl",
        "E6MkPsBcp1cl",
        "2cELzS2fp1cl",
        "3MPXvC8up1cl",
        "NC_X3p0fY2L0",
        "UV0SzAkaZNRQ",
        "YPEH6qLeZNRQ",
        "q29F0dvdveiT",
        "EXh0U9oCveiU",
        "22aHeOlLveiV",
        "JcMwzZxoAimU",
        "8G2x9gOozGDZ",
        "gCX9965dhzqZ",
        "gIfDvo9L0UH2"
      ],
      "private_outputs": true,
      "provenance": []
    },
    "kernelspec": {
      "display_name": "Python 3",
      "name": "python3"
    },
    "language_info": {
      "codemirror_mode": {
        "name": "ipython",
        "version": 3
      },
      "file_extension": ".py",
      "mimetype": "text/x-python",
      "name": "python",
      "nbconvert_exporter": "python",
      "pygments_lexer": "ipython3",
      "version": "3.12.4"
    }
  },
  "nbformat": 4,
  "nbformat_minor": 0
}
